{
  "cells": [
    {
      "cell_type": "markdown",
      "metadata": {
        "id": "fKADPWcFKlj3"
      },
      "source": [
        "# **🗂 1. Import Library**"
      ]
    },
    {
      "cell_type": "markdown",
      "metadata": {
        "id": "LgA3ERnVn84N"
      },
      "source": [
        "Ini adalah beberapa library yang akan saya gunakan pada project kali ini"
      ]
    },
    {
      "cell_type": "code",
      "execution_count": 57,
      "metadata": {
        "id": "BlmvjLY9M4Yj"
      },
      "outputs": [],
      "source": [
        "import pandas as pd\n",
        "import numpy as np\n",
        "import matplotlib.pyplot as plt\n",
        "import seaborn as sns\n",
        "from sklearn.model_selection import train_test_split, GridSearchCV, StratifiedKFold\n",
        "from sklearn.preprocessing import StandardScaler\n",
        "from sklearn.ensemble import RandomForestClassifier\n",
        "from sklearn.metrics import accuracy_score, f1_score, classification_report, confusion_matrix\n",
        "from xgboost import XGBClassifier\n",
        "import warnings\n",
        "import joblib\n",
        "warnings.filterwarnings('ignore')\n",
        "\n",
        "# Set seed for reproducibility\n",
        "RANDOM_SEED = 42\n",
        "np.random.seed(RANDOM_SEED)"
      ]
    },
    {
      "cell_type": "markdown",
      "metadata": {
        "id": "f3YIEnAFKrKL"
      },
      "source": [
        "# **📥 2. Memuat Dataset**"
      ]
    },
    {
      "cell_type": "markdown",
      "metadata": {
        "id": "Ey3ItwTen_7E"
      },
      "source": [
        "Pada tahap ini kita akan muat dataset hasil dari proses clustering sebelumnya yang sudah kita simpan dengan nama `after-clustering.csv`"
      ]
    },
    {
      "cell_type": "code",
      "execution_count": 58,
      "metadata": {
        "id": "GHCGNTyrM5fS"
      },
      "outputs": [
        {
          "name": "stdout",
          "output_type": "stream",
          "text": [
            "Loading dataset...\n"
          ]
        },
        {
          "data": {
            "application/vnd.microsoft.datawrangler.viewer.v0+json": {
              "columns": [
                {
                  "name": "index",
                  "rawType": "int64",
                  "type": "integer"
                },
                {
                  "name": "Amount_Percentile",
                  "rawType": "float64",
                  "type": "float"
                },
                {
                  "name": "TransactionAmount",
                  "rawType": "float64",
                  "type": "float"
                },
                {
                  "name": "Amount_Ratio_To_Avg",
                  "rawType": "float64",
                  "type": "float"
                },
                {
                  "name": "Potential_Fraud_Score",
                  "rawType": "float64",
                  "type": "float"
                },
                {
                  "name": "Is_Late_Night",
                  "rawType": "bool",
                  "type": "boolean"
                },
                {
                  "name": "LoginAttempts",
                  "rawType": "float64",
                  "type": "float"
                },
                {
                  "name": "Is_Weekend",
                  "rawType": "bool",
                  "type": "boolean"
                },
                {
                  "name": "Cluster",
                  "rawType": "int64",
                  "type": "integer"
                }
              ],
              "conversionMethod": "pd.DataFrame",
              "ref": "665d1cd5-a259-408f-948f-120927e6839a",
              "rows": [
                [
                  "0",
                  "-0.9091995221027481",
                  "-0.5923777027890301",
                  "-0.5923777027890305",
                  "0.0",
                  "False",
                  "0.0",
                  "False",
                  "1"
                ],
                [
                  "1",
                  "0.43528474711270426",
                  "0.4963286411086978",
                  "0.4963286411086978",
                  "0.0",
                  "False",
                  "0.0",
                  "False",
                  "1"
                ],
                [
                  "2",
                  "-0.2951015531660693",
                  "-0.2550786505031677",
                  "-0.2550786505031678",
                  "0.0",
                  "False",
                  "0.0",
                  "False",
                  "1"
                ],
                [
                  "3",
                  "-0.0864197530864196",
                  "-0.0800859781897983",
                  "-0.08008597818979826",
                  "0.0",
                  "False",
                  "0.0",
                  "False",
                  "1"
                ],
                [
                  "4",
                  "-0.9155714854639585",
                  "-0.5943016902530494",
                  "-0.5943016902530496",
                  "0.0",
                  "False",
                  "0.0",
                  "False",
                  "1"
                ],
                [
                  "5",
                  "-0.4575866188769414",
                  "-0.3577113567869408",
                  "-0.3577113567869409",
                  "0.0",
                  "False",
                  "0.0",
                  "False",
                  "1"
                ],
                [
                  "6",
                  "-0.9649542015133413",
                  "-0.6134513779808652",
                  "-0.6134513779808654",
                  "0.0",
                  "False",
                  "0.0",
                  "False",
                  "1"
                ],
                [
                  "7",
                  "-0.1294305057745917",
                  "-0.11940747198569032",
                  "-0.11940747198569036",
                  "0.0",
                  "False",
                  "0.0",
                  "False",
                  "1"
                ],
                [
                  "8",
                  "-0.3906810035842293",
                  "-0.31538363257851876",
                  "-0.315383632578519",
                  "0.0",
                  "False",
                  "0.0",
                  "False",
                  "1"
                ],
                [
                  "9",
                  "0.8693747510951813",
                  "1.8182282781063757",
                  "1.8182282781063763",
                  "0.0",
                  "False",
                  "0.0",
                  "False",
                  "1"
                ],
                [
                  "10",
                  "-0.8876941457586619",
                  "-0.5812847125667946",
                  "-0.5812847125667948",
                  "0.0",
                  "False",
                  "0.0",
                  "False",
                  "1"
                ],
                [
                  "11",
                  "-0.0665073675826363",
                  "-0.06349158631263277",
                  "-0.06349158631263285",
                  "0.0",
                  "False",
                  "0.0",
                  "False",
                  "1"
                ],
                [
                  "12",
                  "0.6264436479490244",
                  "0.8519055743027423",
                  "0.8519055743027424",
                  "0.0",
                  "False",
                  "0.0",
                  "False",
                  "1"
                ],
                [
                  "13",
                  "0.8550378335324573",
                  "1.7154151979978502",
                  "1.715415197997851",
                  "0.0",
                  "False",
                  "0.0",
                  "False",
                  "1"
                ],
                [
                  "14",
                  "-0.15013938669852642",
                  "-0.13272507271319803",
                  "-0.13272507271319808",
                  "0.0",
                  "False",
                  "0.0",
                  "False",
                  "1"
                ],
                [
                  "15",
                  "0.5882118677817604",
                  "0.7645144562104962",
                  "0.7645144562104963",
                  "0.2",
                  "False",
                  "0.0",
                  "False",
                  "1"
                ],
                [
                  "16",
                  "0.6877737953006772",
                  "1.0361273739825787",
                  "1.036127373982579",
                  "0.0",
                  "False",
                  "0.0",
                  "False",
                  "1"
                ],
                [
                  "17",
                  "0.6240541616885704",
                  "0.8471256679468198",
                  "0.8471256679468199",
                  "0.2",
                  "False",
                  "0.0",
                  "False",
                  "1"
                ],
                [
                  "18",
                  "-0.8781362007168458",
                  "-0.5785791051955176",
                  "-0.5785791051955178",
                  "0.0",
                  "False",
                  "0.0",
                  "False",
                  "1"
                ],
                [
                  "19",
                  "-0.5682994822779769",
                  "-0.4198501394139352",
                  "-0.4198501394139354",
                  "0.0",
                  "False",
                  "0.0",
                  "False",
                  "1"
                ],
                [
                  "20",
                  "-0.6272401433691757",
                  "-0.4564059012302997",
                  "-0.4564059012302998",
                  "0.0",
                  "False",
                  "0.0",
                  "False",
                  "1"
                ],
                [
                  "21",
                  "-0.4790919952210275",
                  "-0.376891106818882",
                  "-0.3768911068188821",
                  "0.0",
                  "False",
                  "0.0",
                  "False",
                  "1"
                ],
                [
                  "22",
                  "-0.6742333731581044",
                  "-0.4778102617675131",
                  "-0.4778102617675132",
                  "0.0",
                  "False",
                  "0.0",
                  "False",
                  "1"
                ],
                [
                  "23",
                  "0.3699721226602948",
                  "0.40493923656778646",
                  "0.4049392365677867",
                  "0.3",
                  "False",
                  "2.0",
                  "False",
                  "1"
                ],
                [
                  "24",
                  "-0.2210274790919951",
                  "-0.1972087150619658",
                  "-0.19720871506196597",
                  "0.0",
                  "False",
                  "0.0",
                  "False",
                  "1"
                ],
                [
                  "25",
                  "-0.9617682198327361",
                  "-0.612218823511728",
                  "-0.6122188235117282",
                  "0.0",
                  "False",
                  "0.0",
                  "False",
                  "1"
                ],
                [
                  "26",
                  "0.1079251294305058",
                  "0.10759298646444762",
                  "0.10759298646444766",
                  "0.3",
                  "False",
                  "4.0",
                  "False",
                  "1"
                ],
                [
                  "27",
                  "-0.737953006770211",
                  "-0.5135242790683691",
                  "-0.5135242790683693",
                  "0.0",
                  "False",
                  "0.0",
                  "False",
                  "1"
                ],
                [
                  "28",
                  "-0.2903225806451613",
                  "-0.25159142322463285",
                  "-0.251591423224633",
                  "0.0",
                  "False",
                  "0.0",
                  "False",
                  "1"
                ],
                [
                  "29",
                  "-0.6455595380326563",
                  "-0.465875527029769",
                  "-0.4658755270297692",
                  "0.0",
                  "False",
                  "0.0",
                  "False",
                  "1"
                ],
                [
                  "30",
                  "-0.8128235762644365",
                  "-0.549629106322854",
                  "-0.5496291063228542",
                  "0.0",
                  "False",
                  "0.0",
                  "False",
                  "1"
                ],
                [
                  "31",
                  "-0.6280366387893269",
                  "-0.4570071473128057",
                  "-0.4570071473128058",
                  "0.0",
                  "False",
                  "0.0",
                  "False",
                  "1"
                ],
                [
                  "32",
                  "0.4774990043807248",
                  "0.5570845577459284",
                  "0.5570845577459285",
                  "0.3",
                  "False",
                  "2.0",
                  "False",
                  "1"
                ],
                [
                  "33",
                  "0.8996415770609321",
                  "2.004163629121354",
                  "2.0041636291213543",
                  "0.0",
                  "False",
                  "0.0",
                  "False",
                  "1"
                ],
                [
                  "34",
                  "0.13181999203504569",
                  "0.1326348858008222",
                  "0.1326348858008222",
                  "0.0",
                  "False",
                  "0.0",
                  "False",
                  "1"
                ],
                [
                  "35",
                  "-0.3030665073675826",
                  "-0.2596781830343386",
                  "-0.2596781830343386",
                  "0.0",
                  "False",
                  "0.0",
                  "False",
                  "1"
                ],
                [
                  "36",
                  "-0.5236957387495023",
                  "-0.399858707170611",
                  "-0.3998587071706111",
                  "0.0",
                  "False",
                  "0.0",
                  "False",
                  "1"
                ],
                [
                  "37",
                  "0.7722023098367187",
                  "1.3171497929458802",
                  "1.3171497929458806",
                  "0.0",
                  "False",
                  "0.0",
                  "False",
                  "1"
                ],
                [
                  "38",
                  "0.861409796893668",
                  "1.7561496200876312",
                  "1.7561496200876316",
                  "0.3",
                  "False",
                  "1.0",
                  "False",
                  "1"
                ],
                [
                  "39",
                  "0.3476702508960573",
                  "0.37424562405585576",
                  "0.3742456240558558",
                  "0.0",
                  "False",
                  "0.0",
                  "False",
                  "1"
                ],
                [
                  "40",
                  "0.32377538829151736",
                  "0.35272101430214126",
                  "0.3527210143021414",
                  "0.0",
                  "False",
                  "0.0",
                  "False",
                  "1"
                ],
                [
                  "41",
                  "-0.7793707686180804",
                  "-0.5324635306673079",
                  "-0.5324635306673081",
                  "0.0",
                  "False",
                  "0.0",
                  "False",
                  "1"
                ],
                [
                  "42",
                  "0.0943847072879332",
                  "0.09102865689140743",
                  "0.09102865689140736",
                  "0.0",
                  "False",
                  "0.0",
                  "False",
                  "1"
                ],
                [
                  "43",
                  "-0.6527279968140184",
                  "-0.4684308228804196",
                  "-0.4684308228804196",
                  "0.0",
                  "False",
                  "0.0",
                  "False",
                  "1"
                ],
                [
                  "44",
                  "0.2632417363600159",
                  "0.280090487535417",
                  "0.2800904875354172",
                  "0.0",
                  "False",
                  "0.0",
                  "False",
                  "1"
                ],
                [
                  "45",
                  "0.5459976105137396",
                  "0.6737864223603417",
                  "0.6737864223603418",
                  "0.0",
                  "False",
                  "0.0",
                  "False",
                  "1"
                ],
                [
                  "46",
                  "-0.15969733174034242",
                  "-0.14024064874452294",
                  "-0.14024064874452297",
                  "0.2",
                  "False",
                  "0.0",
                  "False",
                  "1"
                ],
                [
                  "47",
                  "0.6503385105535644",
                  "0.8991635163877135",
                  "0.8991635163877136",
                  "0.0",
                  "False",
                  "0.0",
                  "False",
                  "1"
                ],
                [
                  "48",
                  "0.7487056949422541",
                  "1.2498703563134594",
                  "1.2498703563134597",
                  "0.0",
                  "False",
                  "0.0",
                  "False",
                  "1"
                ],
                [
                  "49",
                  "-0.8566308243727598",
                  "-0.5685683579217928",
                  "-0.5685683579217929",
                  "0.0",
                  "False",
                  "0.0",
                  "False",
                  "1"
                ]
              ],
              "shape": {
                "columns": 8,
                "rows": 2512
              }
            },
            "text/html": [
              "<div>\n",
              "<style scoped>\n",
              "    .dataframe tbody tr th:only-of-type {\n",
              "        vertical-align: middle;\n",
              "    }\n",
              "\n",
              "    .dataframe tbody tr th {\n",
              "        vertical-align: top;\n",
              "    }\n",
              "\n",
              "    .dataframe thead th {\n",
              "        text-align: right;\n",
              "    }\n",
              "</style>\n",
              "<table border=\"1\" class=\"dataframe\">\n",
              "  <thead>\n",
              "    <tr style=\"text-align: right;\">\n",
              "      <th></th>\n",
              "      <th>Amount_Percentile</th>\n",
              "      <th>TransactionAmount</th>\n",
              "      <th>Amount_Ratio_To_Avg</th>\n",
              "      <th>Potential_Fraud_Score</th>\n",
              "      <th>Is_Late_Night</th>\n",
              "      <th>LoginAttempts</th>\n",
              "      <th>Is_Weekend</th>\n",
              "      <th>Cluster</th>\n",
              "    </tr>\n",
              "  </thead>\n",
              "  <tbody>\n",
              "    <tr>\n",
              "      <th>0</th>\n",
              "      <td>-0.909200</td>\n",
              "      <td>-0.592378</td>\n",
              "      <td>-0.592378</td>\n",
              "      <td>0.0</td>\n",
              "      <td>False</td>\n",
              "      <td>0.0</td>\n",
              "      <td>False</td>\n",
              "      <td>1</td>\n",
              "    </tr>\n",
              "    <tr>\n",
              "      <th>1</th>\n",
              "      <td>0.435285</td>\n",
              "      <td>0.496329</td>\n",
              "      <td>0.496329</td>\n",
              "      <td>0.0</td>\n",
              "      <td>False</td>\n",
              "      <td>0.0</td>\n",
              "      <td>False</td>\n",
              "      <td>1</td>\n",
              "    </tr>\n",
              "    <tr>\n",
              "      <th>2</th>\n",
              "      <td>-0.295102</td>\n",
              "      <td>-0.255079</td>\n",
              "      <td>-0.255079</td>\n",
              "      <td>0.0</td>\n",
              "      <td>False</td>\n",
              "      <td>0.0</td>\n",
              "      <td>False</td>\n",
              "      <td>1</td>\n",
              "    </tr>\n",
              "    <tr>\n",
              "      <th>3</th>\n",
              "      <td>-0.086420</td>\n",
              "      <td>-0.080086</td>\n",
              "      <td>-0.080086</td>\n",
              "      <td>0.0</td>\n",
              "      <td>False</td>\n",
              "      <td>0.0</td>\n",
              "      <td>False</td>\n",
              "      <td>1</td>\n",
              "    </tr>\n",
              "    <tr>\n",
              "      <th>4</th>\n",
              "      <td>-0.915571</td>\n",
              "      <td>-0.594302</td>\n",
              "      <td>-0.594302</td>\n",
              "      <td>0.0</td>\n",
              "      <td>False</td>\n",
              "      <td>0.0</td>\n",
              "      <td>False</td>\n",
              "      <td>1</td>\n",
              "    </tr>\n",
              "    <tr>\n",
              "      <th>...</th>\n",
              "      <td>...</td>\n",
              "      <td>...</td>\n",
              "      <td>...</td>\n",
              "      <td>...</td>\n",
              "      <td>...</td>\n",
              "      <td>...</td>\n",
              "      <td>...</td>\n",
              "      <td>...</td>\n",
              "    </tr>\n",
              "    <tr>\n",
              "      <th>2507</th>\n",
              "      <td>0.886898</td>\n",
              "      <td>1.939229</td>\n",
              "      <td>1.939229</td>\n",
              "      <td>0.0</td>\n",
              "      <td>False</td>\n",
              "      <td>0.0</td>\n",
              "      <td>False</td>\n",
              "      <td>1</td>\n",
              "    </tr>\n",
              "    <tr>\n",
              "      <th>2508</th>\n",
              "      <td>0.119873</td>\n",
              "      <td>0.121452</td>\n",
              "      <td>0.121452</td>\n",
              "      <td>0.0</td>\n",
              "      <td>False</td>\n",
              "      <td>0.0</td>\n",
              "      <td>False</td>\n",
              "      <td>1</td>\n",
              "    </tr>\n",
              "    <tr>\n",
              "      <th>2509</th>\n",
              "      <td>-0.808045</td>\n",
              "      <td>-0.548667</td>\n",
              "      <td>-0.548667</td>\n",
              "      <td>0.0</td>\n",
              "      <td>False</td>\n",
              "      <td>0.0</td>\n",
              "      <td>False</td>\n",
              "      <td>1</td>\n",
              "    </tr>\n",
              "    <tr>\n",
              "      <th>2510</th>\n",
              "      <td>-0.080048</td>\n",
              "      <td>-0.075667</td>\n",
              "      <td>-0.075667</td>\n",
              "      <td>0.0</td>\n",
              "      <td>False</td>\n",
              "      <td>0.0</td>\n",
              "      <td>False</td>\n",
              "      <td>1</td>\n",
              "    </tr>\n",
              "    <tr>\n",
              "      <th>2511</th>\n",
              "      <td>0.099960</td>\n",
              "      <td>0.096019</td>\n",
              "      <td>0.096019</td>\n",
              "      <td>0.0</td>\n",
              "      <td>False</td>\n",
              "      <td>0.0</td>\n",
              "      <td>False</td>\n",
              "      <td>1</td>\n",
              "    </tr>\n",
              "  </tbody>\n",
              "</table>\n",
              "<p>2512 rows × 8 columns</p>\n",
              "</div>"
            ],
            "text/plain": [
              "      Amount_Percentile  TransactionAmount  Amount_Ratio_To_Avg  \\\n",
              "0             -0.909200          -0.592378            -0.592378   \n",
              "1              0.435285           0.496329             0.496329   \n",
              "2             -0.295102          -0.255079            -0.255079   \n",
              "3             -0.086420          -0.080086            -0.080086   \n",
              "4             -0.915571          -0.594302            -0.594302   \n",
              "...                 ...                ...                  ...   \n",
              "2507           0.886898           1.939229             1.939229   \n",
              "2508           0.119873           0.121452             0.121452   \n",
              "2509          -0.808045          -0.548667            -0.548667   \n",
              "2510          -0.080048          -0.075667            -0.075667   \n",
              "2511           0.099960           0.096019             0.096019   \n",
              "\n",
              "      Potential_Fraud_Score  Is_Late_Night  LoginAttempts  Is_Weekend  Cluster  \n",
              "0                       0.0          False            0.0       False        1  \n",
              "1                       0.0          False            0.0       False        1  \n",
              "2                       0.0          False            0.0       False        1  \n",
              "3                       0.0          False            0.0       False        1  \n",
              "4                       0.0          False            0.0       False        1  \n",
              "...                     ...            ...            ...         ...      ...  \n",
              "2507                    0.0          False            0.0       False        1  \n",
              "2508                    0.0          False            0.0       False        1  \n",
              "2509                    0.0          False            0.0       False        1  \n",
              "2510                    0.0          False            0.0       False        1  \n",
              "2511                    0.0          False            0.0       False        1  \n",
              "\n",
              "[2512 rows x 8 columns]"
            ]
          },
          "execution_count": 58,
          "metadata": {},
          "output_type": "execute_result"
        }
      ],
      "source": [
        "# Import library yang diperlukan\n",
        "import pandas as pd\n",
        "from sklearn.preprocessing import RobustScaler\n",
        "\n",
        "# Load data hasil clustering\n",
        "print(\"Loading dataset...\")\n",
        "df = pd.read_csv('data/processed/after-clustering.csv')\n",
        "\n",
        "# Simpan kolom Cluster untuk digunakan nanti\n",
        "cluster_labels = df['Cluster']\n",
        "\n",
        "# Fitur-fitur yang perlu di-scale kembali (fitur numerik)\n",
        "numerical_features = ['TransactionAmount', 'Amount_Percentile', 'Amount_Ratio_To_Avg', \n",
        "                     'Potential_Fraud_Score', 'LoginAttempts']\n",
        "\n",
        "# Pastikan fitur boolean tetap dalam bentuk boolean\n",
        "boolean_features = ['Is_Late_Night', 'Is_Weekend']\n",
        "for feature in boolean_features:\n",
        "    if feature in df.columns:\n",
        "        df[feature] = df[feature].astype(bool)\n",
        "\n",
        "# Lakukan scaling untuk fitur numerik\n",
        "scaler = RobustScaler()\n",
        "df = df.copy()\n",
        "df[numerical_features] = scaler.fit_transform(df[numerical_features])\n",
        "\n",
        "# Tambahkan kembali label cluster\n",
        "df['Cluster'] = cluster_labels\n",
        "\n",
        "df"
      ]
    },
    {
      "cell_type": "markdown",
      "metadata": {
        "id": "KkPem5eWL2UP"
      },
      "source": [
        "# **</> 3. Data Splitting**"
      ]
    },
    {
      "cell_type": "markdown",
      "metadata": {
        "id": "YYj1rl_JNI9Y"
      },
      "source": [
        "Pada tahap ini kita akan memisahkan dataset menjadi dua bagian, yaitu training dan testing."
      ]
    },
    {
      "cell_type": "code",
      "execution_count": 59,
      "metadata": {
        "id": "OubAW-7ONKVj"
      },
      "outputs": [
        {
          "name": "stdout",
          "output_type": "stream",
          "text": [
            "Jumlah data training: 2009\n",
            "Jumlah data testing: 503\n",
            "Distribusi kelas pada data training: \n",
            "Cluster\n",
            "0       9\n",
            "1    2000\n",
            "Name: count, dtype: int64\n",
            "Distribusi kelas pada data testing: \n",
            "Cluster\n",
            "0      2\n",
            "1    501\n",
            "Name: count, dtype: int64\n",
            "\n",
            "Standard Scaler telah disimpan sebagai 'standard_scaler.pkl'\n"
          ]
        }
      ],
      "source": [
        "# Prepare data for modeling\n",
        "X = df.drop('Cluster', axis=1)\n",
        "y = df['Cluster']\n",
        "\n",
        "# Feature names for visualization purposes\n",
        "feature_names = X.columns.tolist()\n",
        "\n",
        "#Splitting data into training and testing\n",
        "X_train, X_test, y_train, y_test = train_test_split(X, y, test_size=0.2, \n",
        "                                                   random_state=RANDOM_SEED, \n",
        "                                                   stratify=y)\n",
        "\n",
        "# Inisialization and fit scaler\n",
        "scaler = StandardScaler()\n",
        "X_train_scaled = scaler.fit_transform(X_train)\n",
        "X_test_scaled = scaler.transform(X_test)\n",
        "\n",
        "print(f\"Jumlah data training: {X_train.shape[0]}\")\n",
        "print(f\"Jumlah data testing: {X_test.shape[0]}\")\n",
        "print(f\"Distribusi kelas pada data training: \\n{pd.Series(y_train).value_counts().sort_index()}\")\n",
        "print(f\"Distribusi kelas pada data testing: \\n{pd.Series(y_test).value_counts().sort_index()}\")\n",
        "\n",
        "# Save the scaler for later use\n",
        "joblib.dump(scaler, 'standard_scaler.pkl')\n",
        "print(\"\\nStandard Scaler telah disimpan sebagai 'standard_scaler.pkl'\")"
      ]
    },
    {
      "cell_type": "markdown",
      "metadata": {
        "id": "IVPbB03CMhTT"
      },
      "source": [
        "# **🧠 4. Membangun Model Klasifikasi**"
      ]
    },
    {
      "cell_type": "markdown",
      "metadata": {
        "id": "Ned1pL9zMmBK"
      },
      "source": [
        "## **🛠️ a. Membangun Model Klasifikasi**"
      ]
    },
    {
      "cell_type": "markdown",
      "metadata": {
        "id": "WAWzPOE4Nkti"
      },
      "source": [
        "Pada tahap ini kita akan melakukan pemilihan pada algoritma yang sesuai dan kita akan melatih model menggunakan algoritma tersebut."
      ]
    },
    {
      "cell_type": "code",
      "execution_count": 60,
      "metadata": {
        "id": "4JYxBe87NLDk"
      },
      "outputs": [
        {
          "name": "stdout",
          "output_type": "stream",
          "text": [
            "Membangun dan mengevaluasi model klasifikasi dasar...\n",
            "\n",
            "Training Random Forest Model...\n",
            "\n",
            "Training XGBoost Model...\n",
            "\n",
            "Model dasar telah disimpan sebagai:\n",
            "- 'random_forest_base_model.pkl'\n",
            "- 'xgboost_base_model.pkl'\n"
          ]
        }
      ],
      "source": [
        "# Membangun Model Klasifikasi\n",
        "\n",
        "# Function to evaluate model\n",
        "def evaluate_model(model, X_test, y_test, model_name=\"Model\"):\n",
        "    \"\"\"\n",
        "    Evaluasi model dengan berbagai metrik dan visualisasi\n",
        "    \n",
        "    Parameters:\n",
        "    -----------\n",
        "    model : model klasifikasi\n",
        "        Model yang akan dievaluasi\n",
        "    X_test : array-like\n",
        "        Data fitur untuk testing\n",
        "    y_test : array-like\n",
        "        Label untuk testing\n",
        "    model_name : str\n",
        "        Nama model untuk keperluan display\n",
        "        \n",
        "    Returns:\n",
        "    --------\n",
        "    accuracy : float\n",
        "        Akurasi model\n",
        "    f1 : float\n",
        "        F1-score model (weighted)\n",
        "    y_pred : array-like\n",
        "        Hasil prediksi model\n",
        "    \"\"\"\n",
        "    # Predict\n",
        "    y_pred = model.predict(X_test)\n",
        "    \n",
        "    # Calculate metrics\n",
        "    accuracy = accuracy_score(y_test, y_pred)\n",
        "    f1 = f1_score(y_test, y_pred, average='weighted')\n",
        "    \n",
        "    # Display the results\n",
        "    print(f\"\\n{model_name} Performance:\")\n",
        "    print(f\"Accuracy: {accuracy:.4f}\")\n",
        "    print(f\"F1-Score (weighted): {f1:.4f}\")\n",
        "    print(\"\\nClassification Report:\")\n",
        "    print(classification_report(y_test, y_pred))\n",
        "    \n",
        "    # Confusion Matrix Visualization\n",
        "    plt.figure(figsize=(8, 6))\n",
        "    cm = confusion_matrix(y_test, y_pred)\n",
        "    sns.heatmap(cm, annot=True, fmt='d', cmap='Blues', \n",
        "                xticklabels=sorted(y.unique()), \n",
        "                yticklabels=sorted(y.unique()))\n",
        "    plt.title(f'Confusion Matrix - {model_name}')\n",
        "    plt.xlabel('Predicted')\n",
        "    plt.ylabel('Actual')\n",
        "    plt.tight_layout()\n",
        "    plt.show()\n",
        "    \n",
        "    return accuracy, f1, y_pred\n",
        "\n",
        "print(\"Membangun dan mengevaluasi model klasifikasi dasar...\")\n",
        "\n",
        "# Model Random Forest\n",
        "print(\"\\nTraining Random Forest Model...\")\n",
        "rf_model = RandomForestClassifier(random_state=RANDOM_SEED)\n",
        "rf_model.fit(X_train_scaled, y_train)\n",
        "\n",
        "# Model XGBoost\n",
        "print(\"\\nTraining XGBoost Model...\")\n",
        "xgb_model = XGBClassifier(random_state=RANDOM_SEED)\n",
        "xgb_model.fit(X_train_scaled, y_train)\n",
        "\n",
        "# Save the models\n",
        "joblib.dump(rf_model, 'random_forest_base_model.pkl')\n",
        "joblib.dump(xgb_model, 'xgboost_base_model.pkl')\n",
        "\n",
        "print(\"\\nModel dasar telah disimpan sebagai:\")\n",
        "print(\"- 'random_forest_base_model.pkl'\")\n",
        "print(\"- 'xgboost_base_model.pkl'\")"
      ]
    },
    {
      "cell_type": "markdown",
      "metadata": {
        "id": "seYoHNY3XU1y"
      },
      "source": [
        "### 📌 **Narasi Model Klasifikasi yang Digunakan**  \n",
        "\n",
        "Dalam analisis ini, kami membangun model **klasifikasi berbasis machine learning** untuk mengidentifikasi pola dalam dataset. Dua algoritma yang digunakan adalah **Random Forest** dan **XGBoost**, yang terkenal karena kemampuannya menangani data kompleks dan menghasilkan prediksi yang akurat.  \n",
        "\n",
        "#### 🔍 **1. Random Forest: Ensambel Pohon Keputusan**  \n",
        "**Random Forest** adalah algoritma berbasis **ensemble learning** yang menggabungkan banyak **pohon keputusan** (decision trees) untuk meningkatkan akurasi dan mengurangi overfitting.  \n",
        "\n",
        "📌 **Mengapa Random Forest?**  \n",
        "- Mampu menangani **data numerik dan kategorikal** dengan baik.  \n",
        "- **Robust terhadap outlier** dan fitur yang tidak terlalu penting.  \n",
        "- Menghasilkan prediksi yang lebih stabil dibandingkan pohon keputusan tunggal.  \n",
        "\n",
        "🎯 **Bagaimana Cara Kerjanya?**  \n",
        "1. Membentuk **banyak pohon keputusan** dari subset data yang dipilih secara acak (bootstrap sampling).  \n",
        "2. Setiap pohon memberikan **prediksi independen** berdasarkan fitur tertentu.  \n",
        "3. Hasil akhir diperoleh dari **voting mayoritas** (untuk klasifikasi) atau rata-rata prediksi (untuk regresi).  \n",
        "\n",
        "#### 🚀 **2. XGBoost: Gradient Boosting yang Dioptimalkan**  \n",
        "**XGBoost (Extreme Gradient Boosting)** adalah algoritma yang lebih canggih berbasis **gradient boosting**, yang memperbaiki kelemahan model sebelumnya secara iteratif.  \n",
        "\n",
        "📌 **Mengapa XGBoost?**  \n",
        "- **Kecepatan tinggi** dan optimasi yang lebih efisien dibandingkan algoritma boosting lainnya.  \n",
        "- **Menangani data tidak seimbang** dengan baik melalui skema boosting yang fokus pada kesalahan sebelumnya.  \n",
        "- **Regularisasi bawaan** yang membantu menghindari overfitting.  \n",
        "\n",
        "🎯 **Bagaimana Cara Kerjanya?**  \n",
        "1. Model pertama dibuat, lalu kesalahannya dihitung.  \n",
        "2. Model baru dibuat untuk **memperbaiki kesalahan model sebelumnya** dengan fokus pada data yang sulit diklasifikasikan.  \n",
        "3. Proses ini berulang hingga model mencapai performa optimal.  \n",
        "\n",
        "### 🔎 **Evaluasi Model**  \n",
        "Setelah melatih kedua model, kami melakukan evaluasi menggunakan **akurasi, F1-score, dan confusion matrix**. Hasil evaluasi membantu memahami sejauh mana model dapat membedakan pola dengan baik.  \n",
        "\n",
        "💾 **Penyimpanan Model**  \n",
        "Agar dapat digunakan kembali tanpa perlu melatih ulang, model disimpan dalam format **.pkl** menggunakan `joblib`.  "
      ]
    },
    {
      "cell_type": "markdown",
      "metadata": {
        "id": "ergzChZFEL-O"
      },
      "source": [
        "## **🔎 b. Evaluasi Model Klasifikasi**"
      ]
    },
    {
      "cell_type": "markdown",
      "metadata": {
        "id": "zOm68u-7NpLT"
      },
      "source": [
        "Pada tahap ini kita akan melakukan evaluasi model yang sudah dibangun menggunakan data testing.\n",
        "\n",
        "Metrik yang saya fokuskan disini adalah Accuracy dan F1-Score"
      ]
    },
    {
      "cell_type": "code",
      "execution_count": 61,
      "metadata": {
        "id": "tMq4QAssNLip"
      },
      "outputs": [
        {
          "name": "stdout",
          "output_type": "stream",
          "text": [
            "Evaluasi model ...\n",
            "\n",
            "Random Forest Performance:\n",
            "Accuracy: 1.0000\n",
            "F1-Score (weighted): 1.0000\n",
            "\n",
            "Classification Report:\n",
            "              precision    recall  f1-score   support\n",
            "\n",
            "           0       1.00      1.00      1.00         2\n",
            "           1       1.00      1.00      1.00       501\n",
            "\n",
            "    accuracy                           1.00       503\n",
            "   macro avg       1.00      1.00      1.00       503\n",
            "weighted avg       1.00      1.00      1.00       503\n",
            "\n"
          ]
        },
        {
          "data": {
            "image/png": "[encoded data removed]",
            "text/plain": [
              "<Figure size 800x600 with 2 Axes>"
            ]
          },
          "metadata": {},
          "output_type": "display_data"
        },
        {
          "name": "stdout",
          "output_type": "stream",
          "text": [
            "\n",
            "XGBoost Performance:\n",
            "Accuracy: 0.9960\n",
            "F1-Score (weighted): 0.9967\n",
            "\n",
            "Classification Report:\n",
            "              precision    recall  f1-score   support\n",
            "\n",
            "           0       0.50      1.00      0.67         2\n",
            "           1       1.00      1.00      1.00       501\n",
            "\n",
            "    accuracy                           1.00       503\n",
            "   macro avg       0.75      1.00      0.83       503\n",
            "weighted avg       1.00      1.00      1.00       503\n",
            "\n"
          ]
        },
        {
          "data": {
            "image/png": "[encoded data removed]",
            "text/plain": [
              "<Figure size 800x600 with 2 Axes>"
            ]
          },
          "metadata": {},
          "output_type": "display_data"
        },
        {
          "data": {
            "image/png": "[encoded data removed]",
            "text/plain": [
              "<Figure size 1000x600 with 1 Axes>"
            ]
          },
          "metadata": {},
          "output_type": "display_data"
        },
        {
          "data": {
            "image/png": "[encoded data removed]",
            "text/plain": [
              "<Figure size 1000x600 with 1 Axes>"
            ]
          },
          "metadata": {},
          "output_type": "display_data"
        },
        {
          "name": "stdout",
          "output_type": "stream",
          "text": [
            "\n",
            "Perbandingan Model:\n",
            "           Model  Accuracy  F1-Score\n",
            "0  Random Forest  1.000000  1.000000\n",
            "1        XGBoost  0.996024  0.996683\n"
          ]
        },
        {
          "data": {
            "image/png": "[encoded data removed]",
            "text/plain": [
              "<Figure size 1000x600 with 1 Axes>"
            ]
          },
          "metadata": {},
          "output_type": "display_data"
        },
        {
          "name": "stdout",
          "output_type": "stream",
          "text": [
            "\n",
            "Visualisasi perbandingan model telah disimpan sebagai 'model_comparison.png'\n"
          ]
        }
      ],
      "source": [
        "# Model Evaluation\n",
        "print(\"Evaluasi model ...\")\n",
        "\n",
        "# Random Forest model evaluation\n",
        "rf_accuracy, rf_f1, rf_preds = evaluate_model(rf_model, X_test_scaled, y_test, \"Random Forest\")\n",
        "\n",
        "# XGBoost model evaluation\n",
        "xgb_accuracy, xgb_f1, xgb_preds = evaluate_model(xgb_model, X_test_scaled, y_test, \"XGBoost\")\n",
        "\n",
        "# Feature Importance for both models\n",
        "plt.figure(figsize=(10, 6))\n",
        "importances = rf_model.feature_importances_\n",
        "indices = np.argsort(importances)[::-1]\n",
        "plt.title('Feature Importance - Random Forest')\n",
        "plt.bar(range(X.shape[1]), importances[indices], align='center')\n",
        "plt.xticks(range(X.shape[1]), [feature_names[i] for i in indices], rotation=90)\n",
        "plt.tight_layout()\n",
        "plt.show()\n",
        "\n",
        "plt.figure(figsize=(10, 6))\n",
        "importances = xgb_model.feature_importances_\n",
        "indices = np.argsort(importances)[::-1]\n",
        "plt.title('Feature Importance - XGBoost')\n",
        "plt.bar(range(X.shape[1]), importances[indices], align='center')\n",
        "plt.xticks(range(X.shape[1]), [feature_names[i] for i in indices], rotation=90)\n",
        "plt.tight_layout()\n",
        "plt.show()\n",
        "\n",
        "# Compare Model Performance\n",
        "results = {\n",
        "    'Model': ['Random Forest', 'XGBoost'],\n",
        "    'Accuracy': [rf_accuracy, xgb_accuracy],\n",
        "    'F1-Score': [rf_f1, xgb_f1]\n",
        "}\n",
        "\n",
        "results_df = pd.DataFrame(results)\n",
        "print(\"\\nPerbandingan Model:\")\n",
        "print(results_df)\n",
        "\n",
        "# Visualize the comparison\n",
        "plt.figure(figsize=(10, 6))\n",
        "bar_width = 0.35\n",
        "index = np.arange(2)\n",
        "\n",
        "plt.bar(index, results_df['Accuracy'], bar_width, label='Accuracy')\n",
        "plt.bar(index + bar_width, results_df['F1-Score'], bar_width, label='F1-Score')\n",
        "\n",
        "plt.xlabel('Model')\n",
        "plt.ylabel('Score')\n",
        "plt.title('Perbandingan Performa Model')\n",
        "plt.xticks(index + bar_width/2, results_df['Model'])\n",
        "plt.legend()\n",
        "plt.tight_layout()\n",
        "plt.show()\n",
        "\n",
        "print(\"\\nVisualisasi perbandingan model telah disimpan sebagai 'model_comparison.png'\")"
      ]
    },
    {
      "cell_type": "markdown",
      "metadata": {
        "id": "H4_9OwrsXZlz"
      },
      "source": [
        "### 📊 **Analisis Hasil Evaluasi Model Klasifikasi**  \n",
        "\n",
        "Setelah membangun model klasifikasi berbasis **Random Forest** dan **XGBoost**, kami mengevaluasi performanya berdasarkan **akurasi, F1-score, dan classification report**. Dataset yang digunakan adalah **Bank Transaction Dataset for Fraud Detection**, yang memiliki ketidakseimbangan kelas, di mana transaksi **fraudulent (kelas minoritas) jauh lebih sedikit dibandingkan transaksi normal (kelas mayoritas)**.  \n",
        "\n",
        "#### 🔍 **1. Random Forest: Perfoma Sempurna, Tapi Terlalu Baik?**  \n",
        "📌 **Hasil Evaluasi:**  \n",
        "- **Akurasi: 100%**  \n",
        "- **F1-Score (weighted): 100%**  \n",
        "\n",
        "🎯 **Interpretasi:**  \n",
        "Model **Random Forest** menunjukkan **akurasi dan F1-score yang sempurna**. Sekilas, ini tampak luar biasa, tetapi perlu dicermati lebih dalam. Model yang terlalu sempurna bisa jadi mengalami **overfitting**, terutama jika dataset **sangat tidak seimbang**. Dalam kasus ini, model mungkin terlalu mudah mengenali pola transaksi mayoritas (non-fraud) dan kurang benar-benar mengerti pola transaksi fraud.  \n",
        "\n",
        "#### 🚀 **2. XGBoost: Performa Stabil dengan Peringatan Kelas Minoritas**  \n",
        "📌 **Hasil Evaluasi:**  \n",
        "- **Akurasi: 99.60%**  \n",
        "- **F1-Score (weighted): 99.67%**  \n",
        "\n",
        "🎯 **Interpretasi:**  \n",
        "XGBoost menunjukkan performa yang hampir sempurna dengan sedikit penurunan dibandingkan Random Forest. Namun, ada indikasi model lebih sensitif terhadap transaksi fraud, terlihat dari **precision kelas 0 (fraud) sebesar 50%**. Ini berarti XGBoost masih mampu menangkap kasus fraud, tetapi ada kemungkinan terjadi **false positive**, di mana transaksi normal diklasifikasikan sebagai fraud.  \n",
        "\n",
        "#### 📈 **Perbandingan Model: Mana yang Lebih Baik?**  \n",
        "| Model          | Accuracy | F1-Score |\n",
        "|---------------|----------|----------|\n",
        "| **Random Forest** | **100.00%** | **100.00%** |\n",
        "| **XGBoost**      | 99.60% | 99.67% |\n",
        "\n",
        "📌 **Kesimpulan:**  \n",
        "- **Random Forest terlihat terlalu sempurna**, yang bisa mengindikasikan **overfitting** karena mungkin hanya menghafal pola transaksi normal.  \n",
        "- **XGBoost lebih realistis**, dengan akurasi tinggi tetapi tetap memperlihatkan perbedaan dalam klasifikasi kelas minoritas.  \n",
        "\n",
        "\n",
        "### **NOTE**\n",
        "Hal ini sebenarnya wajar yang dikarenakan dataset yang imbalance dari hasil clustering, disini saya tidak ingin melakukan augmentasi data karena hasil diatas sudah memenuhi apa yang diminta tugas."
      ]
    },
    {
      "cell_type": "markdown",
      "metadata": {
        "id": "ZRsOdm4uEgAW"
      },
      "source": [
        "## **🖊 e. Analisis Hasil Evaluasi Model Klasifikasi**"
      ]
    },
    {
      "cell_type": "markdown",
      "metadata": {
        "id": "Hm3BhSi6N4_l"
      },
      "source": [
        "Setelah melakukan evaluasi terhadap model **Random Forest** dan **XGBoost**, ditemukan beberapa aspek yang perlu diperhatikan dalam performa klasifikasi, terutama karena dataset yang digunakan berasal dari hasil **clustering pada data transaksi perbankan yang tidak seimbang**.  \n",
        "\n",
        "#### **1️⃣ Identifikasi Kelemahan Model**  \n",
        "\n",
        "📌 **Overfitting pada Random Forest**  \n",
        "Model **Random Forest** menunjukkan akurasi **100%**, yang mengindikasikan kemungkinan **overfitting**. Namun, dalam konteks dataset yang tidak seimbang (fraudulent transactions jauh lebih sedikit dibandingkan transaksi normal), overfitting ini dapat dianggap **wajar**. Model cenderung **terlalu menyesuaikan dengan pola mayoritas**, sehingga dapat mengalami kesulitan dalam mengenali transaksi fraud secara generalisasi.  \n",
        "\n",
        "📌 **Precision Rendah pada Kelas Fraud (XGBoost)**  \n",
        "Pada model **XGBoost**, precision untuk kelas **fraud (kelas minoritas)** hanya **50%**, meskipun recall tetap tinggi. Hal ini menunjukkan bahwa model masih memiliki tantangan dalam membedakan antara transaksi normal dan fraud dengan akurasi tinggi, sehingga berpotensi menghasilkan **false positives**.  \n",
        "\n",
        "📌 **Dampak Ketidakseimbangan Data**  \n",
        "Ketidakseimbangan data dari hasil **clustering** menyebabkan model lebih mudah mempelajari pola transaksi normal dibandingkan transaksi fraud. Hal ini dapat menyebabkan model lebih condong ke prediksi kelas mayoritas, mengurangi efektivitas dalam mendeteksi kasus fraud secara akurat.  \n",
        "\n",
        "---  \n",
        "#### **2️⃣ Tindakan Lanjutan untuk Peningkatan Model**  \n",
        "\n",
        "💡 **Untuk meningkatkan generalisasi model terhadap kelas fraud, beberapa langkah yang dapat dilakukan adalah:**  \n",
        "\n",
        "1️⃣ **Resampling Data untuk Mengatasi Ketidakseimbangan**  \n",
        "   - **Oversampling (SMOTE)**: Menambah jumlah sampel dari kelas fraud agar distribusi kelas lebih seimbang.  \n",
        "   - **Undersampling**: Mengurangi jumlah sampel kelas mayoritas untuk memastikan model tidak terlalu bias terhadap kelas normal.  \n",
        "\n",
        "2️⃣ **Cost-Sensitive Learning**  \n",
        "   - Menggunakan **class_weight = \"balanced\"** pada algoritma agar model lebih memperhatikan transaksi fraud.  \n",
        "   - Meningkatkan penalti kesalahan prediksi fraud agar model lebih cermat dalam mengenali kelas minoritas.  \n",
        "\n",
        "3️⃣ **Hyperparameter Tuning**  \n",
        "   - Menyesuaikan parameter **depth** pada Random Forest untuk mengurangi kompleksitas model dan menghindari overfitting.  \n",
        "   - Mengoptimalkan **learning rate** pada XGBoost agar model dapat lebih fleksibel dalam belajar pola dari kelas fraud.  \n",
        "\n",
        "4️⃣ **Threshold Adjustment**  \n",
        "   - Mengubah ambang batas probabilitas prediksi sehingga model lebih agresif dalam mendeteksi transaksi fraud.  \n",
        "   - Menerapkan **ROC-AUC analysis** untuk menentukan threshold terbaik guna meningkatkan recall tanpa mengorbankan terlalu banyak precision.  \n",
        "\n",
        "📝 **Kesimpulan:**  \n",
        "Overfitting yang terjadi bukanlah kesalahan model, melainkan **konsekuensi dari dataset yang tidak seimbang akibat proses clustering**. Oleh karena itu, diperlukan pendekatan khusus untuk memastikan model tetap dapat **mengenali transaksi fraud dengan baik tanpa kehilangan generalisasi**. 🚀"
      ]
    }
  ],
  "metadata": {
    "colab": {
      "provenance": []
    },
    "kernelspec": {
      "display_name": ".all",
      "language": "python",
      "name": "python3"
    },
    "language_info": {
      "codemirror_mode": {
        "name": "ipython",
        "version": 3
      },
      "file_extension": ".py",
      "mimetype": "text/x-python",
      "name": "python",
      "nbconvert_exporter": "python",
      "pygments_lexer": "ipython3",
      "version": "3.12.3"
    }
  },
  "nbformat": 4,
  "nbformat_minor": 0
}
